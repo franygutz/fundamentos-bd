{
    "metadata": {
        "kernelspec": {
            "name": "SQL",
            "display_name": "SQL",
            "language": "sql"
        },
        "language_info": {
            "name": "sql",
            "version": ""
        }
    },
    "nbformat_minor": 2,
    "nbformat": 4,
    "cells": [
        {
            "cell_type": "markdown",
            "source": [
                "# Práctica | Consultas simples con SELECT\n",
                "\n",
                "## Estudiante: Franya Gutiérrez\n",
                "\n",
                "Database usada: Northwind\n",
                "\n",
                "# Ejercicios para resolver de manera independiente\n",
                "\n",
                "## 1. Listar los productos cuyo stock sea menor a 10 unidades y ordenarlos por precio de mayor a menor."
            ],
            "metadata": {
                "azdata_cell_guid": "16e6f9ee-cac4-4ad9-9a08-94c2b39511a5"
            },
            "attachments": {}
        },
        {
            "cell_type": "code",
            "source": [
                "SELECT ProductName, UnitsInStock, UnitPrice\r\n",
                "FROM Products\r\n",
                "WHERE UnitsInStock < 10\r\n",
                "ORDER BY UnitPrice DESC"
            ],
            "metadata": {
                "azdata_cell_guid": "50be1a80-a7e2-4107-bf3c-5954c9af7794",
                "language": "sql",
                "tags": []
            },
            "outputs": [],
            "execution_count": null
        },
        {
            "cell_type": "markdown",
            "source": [
                "## 2\\. Mostrar el nombre de los clientes que sean de México, España o Argentina."
            ],
            "metadata": {
                "azdata_cell_guid": "c082edee-533a-4687-a580-d134e7c59cfd"
            },
            "attachments": {}
        },
        {
            "cell_type": "code",
            "source": [
                "SELECT Customers.CompanyName, Customers.ContactName, Customers.Country, Customers.City, Customers.Address, Customers.PostalCode, Customers.Phone\r\n",
                "FROM Customers\r\n",
                "WHERE Customers.Country = 'Mexico' OR Customers.Country = 'Spain' OR Customers.Country = 'Argentina'  \r\n",
                "ORDER BY Customers.Country ASC"
            ],
            "metadata": {
                "azdata_cell_guid": "d6194ce6-3bf5-4835-857a-4133777d9454",
                "language": "sql",
                "tags": []
            },
            "outputs": [],
            "execution_count": null
        },
        {
            "cell_type": "markdown",
            "source": [
                "## 3\\. Listar los pedidos hechos en 1997, mostrando el ID de pedido y la fecha.."
            ],
            "metadata": {
                "azdata_cell_guid": "e1bd4fa5-b726-4594-aa4f-1c30d05da9d6"
            },
            "attachments": {}
        },
        {
            "cell_type": "code",
            "source": [
                "SELECT Orders.OrderID, Orders.OrderDate\r\n",
                "FROM Orders\r\n",
                "WHERE YEAR(Orders.OrderDate) = 1997"
            ],
            "metadata": {
                "azdata_cell_guid": "a7282a62-2927-49e3-af6b-e0126f61b831",
                "language": "sql"
            },
            "outputs": [],
            "execution_count": null
        },
        {
            "cell_type": "markdown",
            "source": [
                "## 4\\. Obtener la cantidad total de pedidos por cliente y mostrar solo aquellos con más de 20 pedidos."
            ],
            "metadata": {
                "azdata_cell_guid": "2122c82d-1ccb-44f5-873e-9219f550d560"
            },
            "attachments": {}
        },
        {
            "cell_type": "code",
            "source": [
                "SELECT Customers.CompanyName, COUNT(Orders.OrderID) AS TotalPedidos\r\n",
                "FROM Customers \r\n",
                "JOIN Orders ON Customers.CustomerID = Orders.CustomerID\r\n",
                "GROUP BY Customers.CompanyName\r\n",
                "HAVING COUNT(Orders.OrderID) > 20"
            ],
            "metadata": {
                "azdata_cell_guid": "0434aaf0-33bb-4bb0-907c-bb76d7102503",
                "language": "sql",
                "tags": []
            },
            "outputs": [],
            "execution_count": null
        },
        {
            "cell_type": "markdown",
            "source": [
                "## 5\\. Mostrar el nombre de cada producto junto al nombre de su categoría (usar INNER JOIN)."
            ],
            "metadata": {
                "azdata_cell_guid": "6f145d06-6515-4487-920b-ef4ff2e4683c"
            },
            "attachments": {}
        },
        {
            "cell_type": "code",
            "source": [
                "SELECT Products.ProductName, Categories.CategoryName\r\n",
                "FROM Products\r\n",
                "INNER JOIN Categories ON Products.CategoryID = Categories.CategoryID\r\n",
                "ORDER BY Categories.CategoryName ASC"
            ],
            "metadata": {
                "azdata_cell_guid": "32769702-15a6-4257-8139-fb392ce89f31",
                "language": "sql",
                "tags": []
            },
            "outputs": [],
            "execution_count": null
        },
        {
            "cell_type": "markdown",
            "source": [
                "## 6\\. Mostrar todos los empleados y, si tienen pedidos asignados, el número de pedidos (usar LEFT JOIN)."
            ],
            "metadata": {
                "azdata_cell_guid": "c3e6fcc8-5759-4085-acee-de96d95c3d96"
            },
            "attachments": {}
        },
        {
            "cell_type": "code",
            "source": [
                "SELECT Employees.FirstName, Employees.LastName, COUNT(Orders.EmployeeID) AS NumeroPedidos\r\n",
                "FROM Employees\r\n",
                "LEFT JOIN Orders ON Employees.EmployeeID = Orders.EmployeeID\r\n",
                "GROUP BY Employees.FirstName, Employees.LastName\r\n",
                "ORDER BY NumeroPedidos ASC"
            ],
            "metadata": {
                "azdata_cell_guid": "96745b7c-9974-42b4-bab8-1b44068cf2f4",
                "language": "sql"
            },
            "outputs": [],
            "execution_count": null
        },
        {
            "cell_type": "markdown",
            "source": [
                "## 7. Mostrar el nombre y precio de los productos más caros de cada categoría."
            ],
            "metadata": {
                "azdata_cell_guid": "613597c7-c253-445a-86de-dccd8633c8ad"
            },
            "attachments": {}
        },
        {
            "cell_type": "code",
            "source": [
                "SELECT Categories.CategoryName, Products.ProductName, Products.UnitPrice\r\n",
                "FROM Products\r\n",
                "JOIN ( \r\n",
                "    SELECT Products.CategoryID, MAX(Products.UnitPrice)  AS PrecioMaximo\r\n",
                "    FROM Products\r\n",
                "    GROUP BY Products.CategoryID\r\n",
                ") AS InfoMax\r\n",
                "\r\n",
                "ON Products.CategoryID = InfoMax.CategoryID AND Products.UnitPrice = InfoMax.PrecioMaximo\r\n",
                "JOIN Categories ON Products.CategoryID = Categories.CategoryID\r\n",
                "ORDER BY Categories.CategoryName ASC\r\n",
                ""
            ],
            "metadata": {
                "azdata_cell_guid": "f0c325d1-a108-409d-991f-3a3ba4ed36d1",
                "language": "sql"
            },
            "outputs": [],
            "execution_count": null
        },
        {
            "cell_type": "markdown",
            "source": [
                "## 8. Mostrar el nombre de los clientes y la fecha de sus pedidos realizados entre el 1 de enero de 1997 y el 31 de diciembre de 1997."
            ],
            "metadata": {
                "azdata_cell_guid": "c24e79ba-788d-4589-9fe7-54ce6c9b2be7"
            },
            "attachments": {}
        },
        {
            "cell_type": "code",
            "source": [
                "SELECT Customers.CompanyName, Orders.OrderDate\r\n",
                "FROM Customers\r\n",
                "JOIN Orders ON Customers.CustomerID = Orders.CustomerID\r\n",
                "WHERE Orders.OrderDate BETWEEN '1997-01-01' AND '1997-12-31'\r\n",
                "ORDER BY Customers.CompanyName ASC"
            ],
            "metadata": {
                "azdata_cell_guid": "6ffc1baa-c0f1-4ef1-919d-a54cae8aae76",
                "language": "sql"
            },
            "outputs": [],
            "execution_count": null
        }
    ]
}