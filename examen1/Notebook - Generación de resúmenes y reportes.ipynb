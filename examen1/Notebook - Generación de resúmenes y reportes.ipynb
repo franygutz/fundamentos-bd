{
    "metadata": {
        "kernelspec": {
            "name": "SQL",
            "display_name": "SQL",
            "language": "sql"
        },
        "language_info": {
            "name": "sql",
            "version": ""
        }
    },
    "nbformat_minor": 2,
    "nbformat": 4,
    "cells": [
        {
            "cell_type": "markdown",
            "source": [
                "![Logo FIA.png](attachment:image.png)\n",
                "\n",
                "# Examen: Generación de resúmenes y reportes"
            ],
            "metadata": {
                "azdata_cell_guid": "0a0ce23e-947e-480a-8a6e-0aee518531d8"
            },
            "attachments": {
                "image.png": {
                    "image/png": "[encoded data removed]"
                }
            }
        },
        {
            "cell_type": "markdown",
            "source": [
                "**Nombre: Franya Dalila Gutierrez Lopez**"
            ],
            "metadata": {
                "azdata_cell_guid": "1b47772e-6580-4b43-9752-3b12f0248f9b"
            },
            "attachments": {}
        },
        {
            "cell_type": "markdown",
            "source": [
                "## 📘 Consulta asignada\n",
                "\n",
                "### 5\\. Mostrar el número de órdenes y el total vendido a cada cliente del Reino Unido, agrupando por cliente.\n",
                "\n",
                "## 📘 **Explicación del Proceso**\n",
                "\n",
                "- Se seleccionan las columnas que desean ser mostradas:\n",
                "    \n",
                "    - _c.CustomerID_ = el ID del cliente, también se le asigna un alias, en este caso ese alias es: _ID_. Esto para que la impresión sea más intuitiva para la lectura, y de igual forma para que cuando vaya a usar esos datos, simplemente llame a esa _variable_\n",
                "    - _c.CompanyName_ = el nombre del cliente cuyo alias (asignado por AS) _Cliente_\n",
                "    - **COUNT(o.OrderID)=** como se solicita mostrar la cantidad de datos vendidos, se cuenta cuantos datos hay en la tabla de Orders usando su ID, para así contemplar TODOS los datos ingresados en esa tabla. COUNT cuenta todos los registros que hay en dicha tabla. A esta función se le asigna la variable de _NumeroDeOrdenes_\n",
                "    - _SUM(od.Quantity\\*od.UnitPrice-od.Discount)_ = Función explicada:\n",
                "        - La cantidad de productos comprados en una orden de OrderDetails \\* El precio unitario de ese producto comprado en la orden de OrderDetails\n",
                "        - A la multiplicación anterior, se le resta el descuento designado a esa orden, que se encuentra en la tabla de OrderDetails.\n",
                "        - Todo esto, se suma con cada uno de los datos que haya de esa empresa (luego se agrupan en la consulta de la linea 6\n",
                "        - A esto se le asigna la variable TotalVendido\n",
                "    - Esas son los campos que se estarán mostrando en la tabla\n",
                "- Se selecciona el origen de los datos, en este caso los datos provienen de la tabla de Customers, pues es ahí donde están ubicados los datos de los clientes. Se le asigna la variable **c**. Por ello, en las consultas anterioresm no se ponia el nombre completo de la tabla, sino simplemente: **_c_**\n",
                "    \n",
                "- Se unen las tablas con sus claves. Aquí, la tabla Customers s<span style=\"color: var(--vscode-foreground);\">e une con la tabla Orders.</span> <span style=\"color: var(--vscode-foreground);\">&nbsp;La unión se realiza a través del campo CustomerID, qu</span><span style=\"color: var(--vscode-foreground);\">e es común en ambas tablas.&nbsp;</span> \n",
                "    \n",
                "- <span style=\"color: var(--vscode-foreground);\">De la misma forma anterior, se unen las claves de Order Details (entre corchetes porque hay un espacio), la llave foranea de OrderID, se une a la tabla de Orders (su clave primaria) OrderID.</span>\n",
                "    \n",
                "- <span style=\"color: var(--vscode-foreground);\">Se agrupan las con GRUOP BY todas las operaciones a realizar a los campos de customerID y CompanyName.&nbsp;</span> \n",
                "    \n",
                "- <span style=\"color: var(--vscode-foreground);\">Se ordena la vista por TotalVendido, en orden descendente (de mayor a menor)</span>"
            ],
            "metadata": {
                "azdata_cell_guid": "ad33f8d8-a8aa-4b3f-96be-aabe0b3cc774"
            },
            "attachments": {}
        },
        {
            "cell_type": "code",
            "source": [
                "SELECT c.CustomerID AS ID, c.CompanyName AS Cliente, COUNT(o.OrderID) AS NumeroDeOrdenes, SUM(od.Quantity*od.UnitPrice*(1-od.Discount)) AS TotalVendido\r\n",
                "FROM Customers AS c\r\n",
                "INNER JOIN Orders AS o ON c.CustomerID = o.CustomerID\r\n",
                "INNER JOIN [Order Details] AS od ON o.OrderID = od.OrderID\r\n",
                "WHERE c.Country IN('UK')\r\n",
                "GROUP BY c.CustomerID, c.CompanyName\r\n",
                "ORDER BY TotalVendido DESC"
            ],
            "metadata": {
                "azdata_cell_guid": "d437a72e-7066-402f-83ac-d6ae2b3f1426",
                "language": "sql"
            },
            "outputs": [
                {
                    "output_type": "display_data",
                    "data": {
                        "text/html": "(7 rows affected)"
                    },
                    "metadata": {}
                },
                {
                    "output_type": "display_data",
                    "data": {
                        "text/html": "Total execution time: 00:00:00.010"
                    },
                    "metadata": {}
                },
                {
                    "output_type": "execute_result",
                    "metadata": {},
                    "execution_count": 24,
                    "data": {
                        "application/vnd.dataresource+json": {
                            "schema": {
                                "fields": [
                                    {
                                        "name": "ID"
                                    },
                                    {
                                        "name": "Cliente"
                                    },
                                    {
                                        "name": "NumeroDeOrdenes"
                                    },
                                    {
                                        "name": "TotalVendido"
                                    }
                                ]
                            },
                            "data": [
                                {
                                    "ID": "SEVES",
                                    "Cliente": "Seven Seas Imports",
                                    "NumeroDeOrdenes": "26",
                                    "TotalVendido": "16215.325061798096"
                                },
                                {
                                    "ID": "EASTC",
                                    "Cliente": "Eastern Connection",
                                    "NumeroDeOrdenes": "21",
                                    "TotalVendido": "14761.03500366211"
                                },
                                {
                                    "ID": "AROUT",
                                    "Cliente": "Around the Horn",
                                    "NumeroDeOrdenes": "30",
                                    "TotalVendido": "13390.650009155273"
                                },
                                {
                                    "ID": "ISLAT",
                                    "Cliente": "Island Trading",
                                    "NumeroDeOrdenes": "23",
                                    "TotalVendido": "6146.299995422363"
                                },
                                {
                                    "ID": "BSBEV",
                                    "Cliente": "B's Beverages",
                                    "NumeroDeOrdenes": "22",
                                    "TotalVendido": "6089.899990081787"
                                },
                                {
                                    "ID": "CONSH",
                                    "Cliente": "Consolidated Holdings",
                                    "NumeroDeOrdenes": "7",
                                    "TotalVendido": "1719.1000032424927"
                                },
                                {
                                    "ID": "NORTS",
                                    "Cliente": "North/South",
                                    "NumeroDeOrdenes": "6",
                                    "TotalVendido": "649"
                                }
                            ]
                        },
                        "text/html": [
                            "<table>",
                            "<tr><th>ID</th><th>Cliente</th><th>NumeroDeOrdenes</th><th>TotalVendido</th></tr>",
                            "<tr><td>SEVES</td><td>Seven Seas Imports</td><td>26</td><td>16215.325061798096</td></tr>",
                            "<tr><td>EASTC</td><td>Eastern Connection</td><td>21</td><td>14761.03500366211</td></tr>",
                            "<tr><td>AROUT</td><td>Around the Horn</td><td>30</td><td>13390.650009155273</td></tr>",
                            "<tr><td>ISLAT</td><td>Island Trading</td><td>23</td><td>6146.299995422363</td></tr>",
                            "<tr><td>BSBEV</td><td>B&#39;s Beverages</td><td>22</td><td>6089.899990081787</td></tr>",
                            "<tr><td>CONSH</td><td>Consolidated Holdings</td><td>7</td><td>1719.1000032424927</td></tr>",
                            "<tr><td>NORTS</td><td>North/South</td><td>6</td><td>649</td></tr>",
                            "</table>"
                        ]
                    }
                }
            ],
            "execution_count": 24
        },
        {
            "cell_type": "markdown",
            "source": [
                "## **<span style=\"font-size: 14px; color: var(--vscode-foreground);\">📘</span> Interpretación de los Resultados**\n",
                "\n",
                "- Los resultados muestran que la compañía: **Seven Seas Imports**_,_ identificada con el ID **SEVES**_,_ es a quien más dinero se le ha facturado. Con un total de 16215.325061798096,\n",
                "- Eastern Connection ha hecho 21 ordenes con un total de 14761.03500366211\n",
                "- La compañía que más facturas tiene, quienes más ordenes han hecho, son **Around the Horn.** Con un total de 30 ordenes, y a su veez 14761.03500366211 en dinero\n",
                "- La compañía que menos ordenes tiene es **North/South,** identificada con el ID **NORTS,** con un total de 6 ordenes y 629 de dinero."
            ],
            "metadata": {
                "azdata_cell_guid": "960be8ca-f3e6-4ce4-9219-7b09f75bb534"
            },
            "attachments": {}
        },
        {
            "cell_type": "markdown",
            "source": [
                "## **📘 Especificación detallada de consultas usadas**\n",
                "\n",
                "> Para saber cómo salia especificado **Reino Unido** <span style=\"font-size: 14px; color: var(--vscode-foreground);\">en la tabla, se imprimieron todos los campos de </span> **Customers.** <span style=\"font-size: 14px; color: var(--vscode-foreground);\">Ahí, se verificó que salia como </span> _UK_<span style=\"font-size: 14px; color: var(--vscode-foreground);\">.Para saber cuantos clientes eran del Reino Unido, se usó la siguiente consulta</span>"
            ],
            "metadata": {
                "azdata_cell_guid": "2f6a71f8-e0f2-4928-83e6-3eb4d0051915"
            },
            "attachments": {}
        },
        {
            "cell_type": "code",
            "source": [
                "SELECT *\r\n",
                "FROM Customers AS c\r\n",
                "WHERE c.Country IN('UK') --Where c.Country='UK'"
            ],
            "metadata": {
                "azdata_cell_guid": "c6f60ab6-7c69-44ac-8fe0-0a8bfc0e2688",
                "language": "sql",
                "tags": []
            },
            "outputs": [],
            "execution_count": null
        },
        {
            "cell_type": "markdown",
            "source": [
                "> Con respecto a la tabla de orders, no se realizo ninguna consulta para conocer sus campos, pues al momento de digitarla en el codigo se vio que existian los IDs que se iban a usar: _CustomerID_ y _OrderID_"
            ],
            "metadata": {
                "language": "sql",
                "azdata_cell_guid": "48349914-37e0-4da6-a788-52d71c505a26"
            },
            "attachments": {}
        },
        {
            "cell_type": "markdown",
            "source": [
                "> Para verificar los datos que se iban a unir a la tabla de clientes se hizo la siguiente consulta. Pues así se confirmó si el dato del descuento estaba en porcentaje o en dinero. Y también se corroboraron los datos que se iban a usar."
            ],
            "metadata": {
                "azdata_cell_guid": "b3093a7d-5e1d-4fde-bcbb-05e4c256759b"
            },
            "attachments": {}
        },
        {
            "cell_type": "code",
            "source": [
                "select *\r\n",
                "from [Order Details]"
            ],
            "metadata": {
                "azdata_cell_guid": "5059b9fe-a3f2-4890-937e-3b467b8215ec",
                "language": "sql",
                "tags": []
            },
            "outputs": [],
            "execution_count": null
        }
    ]
}