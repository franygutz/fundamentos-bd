{
    "metadata": {
        "kernelspec": {
            "name": "SQL",
            "display_name": "SQL",
            "language": "sql"
        },
        "language_info": {
            "name": "sql",
            "version": ""
        }
    },
    "nbformat_minor": 2,
    "nbformat": 4,
    "cells": [
        {
            "cell_type": "markdown",
            "source": [
                "![Logo FIA.png](data:image/png;base64,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)\n",
                "# 🚀 Taller | Funciones de Agregado y Agrupaciones en SQL Server (T-SQL)\n",
                "**Base de datos: Northwind**\n",
                ""
            ],
            "metadata": {
                "azdata_cell_guid": "a9d060df-44f1-4e93-b84a-fbb275ba1d32"
            },
            "attachments": {}
        },
        {
            "cell_type": "markdown",
            "source": [
                "**Nombre:** <mark>\\<Franya Dalila Gutiérrez López\\></mark>"
            ],
            "metadata": {
                "azdata_cell_guid": "fd636712-6365-4284-b5f5-2dae515e0465"
            },
            "attachments": {}
        },
        {
            "cell_type": "markdown",
            "source": [
                "## 📖 Introducción\n\n",
                "Las funciones de agregado permiten realizar cálculos sobre un conjunto de filas y devolver un solo valor. Son útiles para obtener resúmenes de datos, estadísticas o métricas.\n\n",
                "**Funciones comunes:**\n",
                "- `COUNT()` — Cuenta el número de filas\n",
                "- `SUM()` — Suma los valores de una columna numérica\n",
                "- `AVG()` — Calcula el promedio\n",
                "- `MIN()` — Devuelve el valor mínimo\n",
                "- `MAX()` — Devuelve el valor máximo\n\n",
                "`GROUP BY` permite agrupar filas según el valor de una o varias columnas, y aplicar funciones de agregado sobre cada grupo.\n\n",
                "`HAVING` permite filtrar grupos (después de agrupar), mientras que `WHERE` filtra filas (antes de agrupar)."
            ],
            "metadata": {
                "azdata_cell_guid": "abf6a683-f8d3-45f0-9700-f9012047f08b"
            }
        },
        {
            "cell_type": "markdown",
            "source": [
                "## 🧠 Ejercicios propuestos\n\nCada ejercicio debe resolverse en una celda de código T-SQL."
            ],
            "metadata": {
                "azdata_cell_guid": "355d8ed7-7257-4bda-8d9d-c12c5137b04e"
            }
        },
        {
            "cell_type": "markdown",
            "source": [
                "# 📝 Ejercicio 1\n",
                "\n",
                "### Mostrar el número de clientes que hay por país.\n",
                "\n",
                "## Documentación\n",
                "\n",
                "- Se usa Select para seleccionar las filas a mostrar, en este caso seria:\n",
                "    - Customers.Country con el alias de Pais (porque ahi se encuentran los paises de los clientes)\n",
                "    - Count(Customers.CustomersID) con el alias de clienets, pues se contaran cuantos registros de clientes hay en la tabla\n",
                "- Se usa from para obtener la tabla de donde viene los datos, el origen de los registros. en este caso es de la tabla de Customers con el alias c\n",
                "- se usa group by para agrupar los registros de los paises como uno solo, asi no se mostrarán datos repetidos\n",
                "- se ordernan según la cantidad de clientes registrada"
            ],
            "metadata": {
                "azdata_cell_guid": "a556a7b9-1a1a-43e0-b7c5-dc5fd0efc549"
            },
            "attachments": {}
        },
        {
            "cell_type": "code",
            "source": [
                "SELECT c.Country AS Pais, COUNT(c.CustomerID) AS Clientes\r\n",
                "FROM Customers AS c\r\n",
                "GROUP BY Country\r\n",
                "ORDER BY Clientes;"
            ],
            "metadata": {
                "azdata_cell_guid": "8c1aea7d-61d1-4589-aa44-3ef68cc47809",
                "language": "sql",
                "tags": []
            },
            "outputs": [],
            "execution_count": null
        },
        {
            "cell_type": "markdown",
            "source": [
                "# 📝 Ejercicio 2\n",
                "\n",
                "### Calcular el número total de pedidos realizados en cada año.\n",
                "\n",
                "## Documentación\n",
                "\n",
                "- se usa select para seleccionar las columnas a mostrar. en este caso:\n",
                "    - el año de la fecha del pedido. a esto se le asigna un alias (año) que será mostrado al listar la tabla\n",
                "    - el contador de ids de los pedidos, con el cual se puede conocer cuantos pedidos hay registrados. tiene alias de TotalPedidos\n",
                "- se usa from para especificar la tabla origen. en este caso la tabla Orders conalias o\n",
                "- where para especificar los registros a filtrar, aca se filtrarán todos los datos en los que exista un registro de fecha\n",
                "- se agrupan por el año de la fecha registrada gracias a group by\n",
                "- se ordenan por año de forma ascendente (predeterminada) gracias a order by"
            ],
            "metadata": {
                "azdata_cell_guid": "a51c6366-0c3b-4482-adef-491f794b8121"
            },
            "attachments": {}
        },
        {
            "cell_type": "code",
            "source": [
                "SELECT YEAR(o.OrderDate) AS Anio, COUNT(o.OrderID) AS TotalPedidos\r\n",
                "FROM Orders as o\r\n",
                "WHERE o.OrderDate is not NULL\r\n",
                "GROUP BY YEAR(o.OrderDate)\r\n",
                "ORDER BY Anio;"
            ],
            "metadata": {
                "azdata_cell_guid": "07f7fbd7-e160-4424-9fcd-be4fdc4d052a",
                "language": "sql",
                "tags": []
            },
            "outputs": [],
            "execution_count": null
        },
        {
            "cell_type": "markdown",
            "source": [
                "# 📝 Ejercicio 3\n",
                "\n",
                "### Mostrar el precio promedio de los productos por cada categoría.\n",
                "\n",
                "## Documentación\n",
                "\n",
                "- se seleccionan las columnas a mostrar:\n",
                "    - Categories.CategoryName porque contiene el nombre de las categorias. se le asigna el alias Categoria\n",
                "    - el calculo del promedio del precio unitario de cada producto. se le asigna el alias PrecioPromedio\n",
                "- se especifica el origen de los datos, en este caso de la tabla de categorias con alias c\n",
                "- se une la tabla de products con la condicion de emparejamiento de que la llave foranea de categorias (Products.CategoryID) en Products sea igual a la llave primaria de categorias (Categories.CategoryID) en Categories\n",
                "- se agrupan los registros que contengan el mismo nombre de categoria\n",
                "- se ordenan los registros por el nombre de la categoria en orden ascendente (por defecto)"
            ],
            "metadata": {
                "azdata_cell_guid": "4fa92b31-2f8a-4490-9e7f-e8f5246f07d5"
            },
            "attachments": {}
        },
        {
            "cell_type": "code",
            "source": [
                "SELECT c.CategoryName AS Categoria, AVG(p.UnitPrice) AS PrecioPromedio   \r\n",
                "FROM Categories AS c\r\n",
                "JOIN Products AS p ON p.CategoryID = c.CategoryID\r\n",
                "GROUP BY c.CategoryName\r\n",
                "ORDER BY c.CategoryName;"
            ],
            "metadata": {
                "azdata_cell_guid": "b5f2abe2-5485-4a20-85aa-dfdba8a406ea",
                "language": "sql"
            },
            "outputs": [],
            "execution_count": null
        },
        {
            "cell_type": "markdown",
            "source": [
                "# 📝 Ejercicio 4\n",
                "\n",
                "### Obtener el total de ventas por cada empleado (sumando el subtotal de sus pedidos).\n",
                "\n",
                "## Documentacion\n",
                "\n",
                "- se seleccionan las columnas a mostras, en este caso son dos\n",
                "    - La columna de empleado, que es la concatenación del texto que aparece en Employees.FirstName y Employees.LastName, con un espacio de por medio.\n",
                "    - La columa TotalVentas, que es el calculo hecho de las ventas totales de cada orden en Order Details\n",
                "- se especifica el origen de los datos, en este caso la tabla de employees\n",
                "- se unen las tablas relacionadas:\n",
                "    - Orders, que se relaciona con la llave foranea de EmployeeID\n",
                "    - Order Details, que se relacion con Orders a través de su llave foranea OrderID\n",
                "- se agrupan por el empleado, para que la suma del subtotal se calcule por cada empleado \n",
                "- se ordenan los resultados para mostrar el mayor dato numerico de primero"
            ],
            "metadata": {
                "azdata_cell_guid": "67f69768-e2d3-4ebd-9be9-4bf8515fbb33"
            },
            "attachments": {}
        },
        {
            "cell_type": "code",
            "source": [
                "select e.FirstName+' '+e.LastName as Empleado, SUM(od.UnitPrice * od.Quantity * (1 - od.Discount)) AS TotalVentas\r\n",
                "from Employees as e\r\n",
                "join Orders as o on o.EmployeeID = e.EmployeeID\r\n",
                "join [Order Details] as od on od.OrderID = o.OrderID\r\n",
                "group by e.EmployeeID, e.FirstName, e.LastName\r\n",
                "order by TotalVentas desc;"
            ],
            "metadata": {
                "azdata_cell_guid": "f40d33b9-aa2f-4a9e-a60b-69a2297c9626",
                "language": "sql"
            },
            "outputs": [],
            "execution_count": null
        },
        {
            "cell_type": "markdown",
            "source": [
                "# 📝 Ejercicio 5\n",
                "\n",
                "### Mostrar el número de productos distintos que se han vendido en cada pedido.\n",
                "\n",
                "## Documentacion\n",
                "\n",
                "- se seleccionan las columnas a mostrar. en este caso, como se solicita mostrar el numero de productos DISTINTOS que se han vendido en cada pedido.\n",
                "    - o.OrderId para identificar el pedido\n",
                "    -  <span style=\"font-family: Consolas, &quot;Courier New&quot;, monospace; font-size: 12px; white-space: pre; color: rgb(220, 220, 170);\">COUNT</span><span style=\"color: rgb(255, 255, 255); font-family: Consolas, &quot;Courier New&quot;, monospace; font-size: 12px; white-space: pre;\">(</span><span style=\"font-family: Consolas, &quot;Courier New&quot;, monospace; font-size: 12px; white-space: pre; color: rgb(86, 156, 214);\">DISTINCT</span> <span style=\"color: rgb(255, 255, 255); font-family: Consolas, &quot;Courier New&quot;, monospace; font-size: 12px; white-space: pre;\">od.ProductID) </span> <span style=\"font-family: Consolas, &quot;Courier New&quot;, monospace; font-size: 12px; white-space: pre; color: rgb(86, 156, 214);\">AS</span> <span style=\"color: rgb(255, 255, 255); font-family: Consolas, &quot;Courier New&quot;, monospace; font-size: 12px; white-space: pre;\">ProductosDistintos </span> para contar cuantos productos distintos aparecen en ESE pedid\n",
                "- <span style=\"color: var(--vscode-foreground);\">se especifica el origen de los datos, en este caso, la tabla de orders&nbsp;</span>  \n",
                "- <span style=\"color: var(--vscode-foreground);\">se une la taba de Order Details, porque ahi está el detalle de los pedidos, o sea ahi esta desglozada la información del pedido</span>\n",
                "- <span style=\"color: var(--vscode-foreground);\">se agrupan por OrderID para contar por cada pedido</span>\n",
                "- <span style=\"color: var(--vscode-foreground);\">se ordenan de mayor a menor segun ProductosDistintos</span>"
            ],
            "metadata": {
                "azdata_cell_guid": "54dd78ea-483f-4b3a-8b5d-ec6c85a30d13"
            },
            "attachments": {}
        },
        {
            "cell_type": "code",
            "source": [
                "SELECT  o.OrderID, COUNT(DISTINCT od.ProductID) AS ProductosDistintos\r\n",
                "FROM Orders AS o\r\n",
                "JOIN [Order Details] AS od ON od.OrderID = o.OrderID\r\n",
                "GROUP BY o.OrderID\r\n",
                "ORDER BY ProductosDistintos DESC;"
            ],
            "metadata": {
                "azdata_cell_guid": "02ab8abd-b70b-4b7f-8ff7-25361c62519c",
                "language": "sql",
                "tags": []
            },
            "outputs": [],
            "execution_count": null
        },
        {
            "cell_type": "markdown",
            "source": [
                "# 📝 Ejercicio 6\n",
                "\n",
                "### Listar las categorías que han generado más de $50,000 en ventas totales.\n",
                "\n",
                "## Documentacion\n",
                "\n",
                "- se seleccionan las columnas que se desean mostrar\n",
                "    - como Categoria se muestra: el campo de CategoryName de la tabla Categories\n",
                "    - como TotalVentas: el calculo del subtotal de las ordenes existentes en Order Details\n",
                "- se especifica el origen de los datos, en este caso: la tabla Categories\n",
                "- se unen las tablas relacionadas:\n",
                "    - la tabla Products, que se relaciona a la tabla Categories a través de la llave CategoryID\n",
                "    - la tabla de Order Details, que se relaciona a la tabla de Products, a través de la llave ProductID\n",
                "- se agrupan por el nombre de la categoria en el campo de CategoryName de la tabla Categories\n",
                "- se filtra por el total requerido: 50000\n",
                "- se ordena la lista mostrada por TotalVentas (el calculo de subtotal) en descendente"
            ],
            "metadata": {
                "azdata_cell_guid": "6ad3e579-ed3f-4c64-97aa-f7d56266465a"
            },
            "attachments": {}
        },
        {
            "cell_type": "code",
            "source": [
                "select c.CategoryName as Categoria, SUM(od.UnitPrice * od.Quantity * (1 - od.Discount)) AS TotalVentas\r\n",
                "from Categories as c\r\n",
                "join Products as p on p.CategoryID = c.CategoryID\r\n",
                "join [Order Details] as od on od.ProductID = p.ProductID\r\n",
                "group by c.CategoryName\r\n",
                "HAVING SUM(od.UnitPrice * od.Quantity * (1 - od.Discount)) > 50000\r\n",
                "order by TotalVentas desc;"
            ],
            "metadata": {
                "azdata_cell_guid": "7095595f-e873-4441-9615-2ad9d0e4d6ce",
                "language": "sql"
            },
            "outputs": [],
            "execution_count": null
        }
    ]
}